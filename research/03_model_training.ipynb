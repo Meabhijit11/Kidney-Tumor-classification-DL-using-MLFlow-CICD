{
 "cells": [
  {
   "cell_type": "code",
   "execution_count": 2,
   "metadata": {},
   "outputs": [
    {
     "data": {
      "text/plain": [
       "'c:\\\\Users\\\\meabh\\\\VS Code Projects\\\\Kidney-Tumor-classification-DL-using-MLFlow-CICD\\\\research'"
      ]
     },
     "execution_count": 2,
     "metadata": {},
     "output_type": "execute_result"
    }
   ],
   "source": [
    "import os\n",
    "%pwd"
   ]
  },
  {
   "cell_type": "code",
   "execution_count": 3,
   "metadata": {},
   "outputs": [
    {
     "data": {
      "text/plain": [
       "'c:\\\\Users\\\\meabh\\\\VS Code Projects\\\\Kidney-Tumor-classification-DL-using-MLFlow-CICD'"
      ]
     },
     "execution_count": 3,
     "metadata": {},
     "output_type": "execute_result"
    }
   ],
   "source": [
    "os.chdir(\"../\")\n",
    "%pwd"
   ]
  },
  {
   "cell_type": "code",
   "execution_count": 4,
   "metadata": {},
   "outputs": [],
   "source": [
    "from dataclasses import dataclass\n",
    "from pathlib import Path\n",
    "\n",
    "\n",
    "@dataclass(frozen=True)\n",
    "class TrainingConfig:\n",
    "    root_dir: Path\n",
    "    trained_model_path: Path\n",
    "    updated_base_model_path: Path\n",
    "    training_data: Path\n",
    "    params_epochs: int\n",
    "    params_batch_size: int\n",
    "    params_is_augmentation: bool\n",
    "    params_image_size: list\n",
    "\n",
    "\n",
    "## this code is an Entity\n",
    "\n",
    "# it is combination of config+params (.yaml)"
   ]
  },
  {
   "cell_type": "code",
   "execution_count": 5,
   "metadata": {},
   "outputs": [],
   "source": [
    "from cnnClassifier.constants import *       # In the constants folder, there root file path is given\n",
    "from cnnClassifier.utils.common import read_yaml, create_directories   # In the utils folder, we have imported required function\n",
    "import tensorflow as tf\n",
    "\n",
    "## This is configuration ralated things"
   ]
  },
  {
   "cell_type": "code",
   "execution_count": 6,
   "metadata": {},
   "outputs": [],
   "source": [
    "class ConfigurationManager:\n",
    "    def __init__(\n",
    "        self,\n",
    "        config_filepath = CONFIG_FILE_PATH,\n",
    "        params_filepath = PARAMS_FILE_PATH):\n",
    "\n",
    "        self.config = read_yaml(config_filepath)\n",
    "        self.params = read_yaml(params_filepath)\n",
    "\n",
    "        create_directories([self.config.artifacts_root])     # It will create a folder\n",
    "\n",
    "    \n",
    "    def get_training_config(self) -> TrainingConfig:            ## here we are going to give all the Path\n",
    "        training = self.config.training                          \n",
    "        prepare_base_model = self.config.prepare_base_model     # this is updated base model path\n",
    "        params = self.params\n",
    "        training_data = os.path.join(self.config.data_ingestion.unzip_dir, \"kidney-ct-scan-image\")\n",
    "        create_directories([\n",
    "            Path(training.root_dir)\n",
    "        ])\n",
    "\n",
    "        training_config = TrainingConfig(\n",
    "            root_dir=Path(training.root_dir),\n",
    "            trained_model_path=Path(training.trained_model_path),\n",
    "            updated_base_model_path=Path(prepare_base_model.updated_base_model_path),\n",
    "            training_data=Path(training_data),\n",
    "            params_epochs=params.EPOCHS,\n",
    "            params_batch_size=params.BATCH_SIZE,\n",
    "            params_is_augmentation=params.AUGMENTATION,\n",
    "            params_image_size=params.IMAGE_SIZE\n",
    "        )\n",
    "\n",
    "        return training_config"
   ]
  },
  {
   "cell_type": "code",
   "execution_count": 7,
   "metadata": {},
   "outputs": [],
   "source": [
    "## Now prepare the components"
   ]
  },
  {
   "cell_type": "code",
   "execution_count": 8,
   "metadata": {},
   "outputs": [],
   "source": [
    "import os\n",
    "import urllib.request as request\n",
    "from zipfile import ZipFile\n",
    "import tensorflow as tf\n",
    "import time"
   ]
  },
  {
   "cell_type": "code",
   "execution_count": 9,
   "metadata": {},
   "outputs": [],
   "source": [
    "class Training:\n",
    "    def __init__(self, config: TrainingConfig):    # this class will take input from class defined above\n",
    "        self.config = config\n",
    "\n",
    "    def get_base_model(self):\n",
    "        self.model = tf.keras.models.load_model(\n",
    "            self.config.updated_base_model_path\n",
    "        )\n",
    "    ## This function will load the model from the path - updated_base_model_path\n",
    "\n",
    "    def train_valid_generator(self):         ## This is the keras data generator function used for generating a dataset like train, test, split, and more.\n",
    "                                             ## This code can get from keras documentation, just search for \"train_valid_generator\" function.\n",
    "\n",
    "        datagenerator_kwargs = dict(\n",
    "            rescale = 1./255,\n",
    "            validation_split=0.20\n",
    "        )\n",
    "\n",
    "        dataflow_kwargs = dict(\n",
    "            target_size=self.config.params_image_size[:-1],\n",
    "            batch_size=self.config.params_batch_size,\n",
    "            interpolation=\"bilinear\"\n",
    "        )\n",
    "\n",
    "        valid_datagenerator = tf.keras.preprocessing.image.ImageDataGenerator(\n",
    "            **datagenerator_kwargs\n",
    "        )\n",
    "\n",
    "        self.valid_generator = valid_datagenerator.flow_from_directory(\n",
    "            directory=self.config.training_data,\n",
    "            subset=\"validation\",\n",
    "            shuffle=False,\n",
    "            **dataflow_kwargs\n",
    "        )\n",
    "\n",
    "    # Now define a function for saving the model\n",
    "\n",
    "    @staticmethod\n",
    "    def save_model(path: Path, model: tf.keras.Model):   # This function will save the model. It will take the model & save the model\n",
    "        model.save(path)\n",
    "\n",
    "\n",
    "    # Now lets define the training function\n",
    "\n",
    "\n",
    "    def train(self):\n",
    "        self.steps_per_epoch = self.train_generator.samples // self.train_generator.batch_size\n",
    "        self.validation_steps = self.valid_generator.samples // self.valid_generator.batch_size\n",
    "\n",
    "        self.model.fit(\n",
    "            self.train_generator,\n",
    "            epochs=self.config.params_epochs,\n",
    "            steps_per_epoch=self.steps_per_epoch,\n",
    "            validation_steps=self.validation_steps,\n",
    "            validation_data=self.valid_generator\n",
    "        )\n",
    "\n",
    "        self.save_model(\n",
    "            path=self.config.trained_model_path,\n",
    "            model=self.model\n",
    "        )\n",
    "\n",
    "    "
   ]
  },
  {
   "cell_type": "code",
   "execution_count": 10,
   "metadata": {},
   "outputs": [],
   "source": [
    "## update the Pipeline"
   ]
  },
  {
   "cell_type": "code",
   "execution_count": 11,
   "metadata": {},
   "outputs": [
    {
     "name": "stdout",
     "output_type": "stream",
     "text": [
      "[2023-11-26 13:19:39,232: INFO: common: yaml file: config\\config.yaml loaded successfully]\n",
      "[2023-11-26 13:19:39,238: INFO: common: yaml file: params.yaml loaded successfully]\n",
      "[2023-11-26 13:19:39,240: INFO: common: created directory at: artifacts]\n",
      "[2023-11-26 13:19:39,242: INFO: common: created directory at: artifacts\\training]\n"
     ]
    },
    {
     "ename": "FileNotFoundError",
     "evalue": "[WinError 3] The system cannot find the path specified: 'artifacts\\\\data_ingestion\\\\kidney-ct-scan-image'",
     "output_type": "error",
     "traceback": [
      "\u001b[1;31m---------------------------------------------------------------------------\u001b[0m",
      "\u001b[1;31mFileNotFoundError\u001b[0m                         Traceback (most recent call last)",
      "\u001b[1;32mc:\\Users\\meabh\\VS Code Projects\\Kidney-Tumor-classification-DL-using-MLFlow-CICD\\research\\03_model_training.ipynb Cell 10\u001b[0m line \u001b[0;36m1\n\u001b[0;32m      <a href='vscode-notebook-cell:/c%3A/Users/meabh/VS%20Code%20Projects/Kidney-Tumor-classification-DL-using-MLFlow-CICD/research/03_model_training.ipynb#X12sZmlsZQ%3D%3D?line=6'>7</a>\u001b[0m     training\u001b[39m.\u001b[39mtrain()\n\u001b[0;32m      <a href='vscode-notebook-cell:/c%3A/Users/meabh/VS%20Code%20Projects/Kidney-Tumor-classification-DL-using-MLFlow-CICD/research/03_model_training.ipynb#X12sZmlsZQ%3D%3D?line=8'>9</a>\u001b[0m \u001b[39mexcept\u001b[39;00m \u001b[39mException\u001b[39;00m \u001b[39mas\u001b[39;00m e:\n\u001b[1;32m---> <a href='vscode-notebook-cell:/c%3A/Users/meabh/VS%20Code%20Projects/Kidney-Tumor-classification-DL-using-MLFlow-CICD/research/03_model_training.ipynb#X12sZmlsZQ%3D%3D?line=9'>10</a>\u001b[0m     \u001b[39mraise\u001b[39;00m e\n",
      "\u001b[1;32mc:\\Users\\meabh\\VS Code Projects\\Kidney-Tumor-classification-DL-using-MLFlow-CICD\\research\\03_model_training.ipynb Cell 10\u001b[0m line \u001b[0;36m6\n\u001b[0;32m      <a href='vscode-notebook-cell:/c%3A/Users/meabh/VS%20Code%20Projects/Kidney-Tumor-classification-DL-using-MLFlow-CICD/research/03_model_training.ipynb#X12sZmlsZQ%3D%3D?line=3'>4</a>\u001b[0m     training \u001b[39m=\u001b[39m Training(config\u001b[39m=\u001b[39mtraining_config)\n\u001b[0;32m      <a href='vscode-notebook-cell:/c%3A/Users/meabh/VS%20Code%20Projects/Kidney-Tumor-classification-DL-using-MLFlow-CICD/research/03_model_training.ipynb#X12sZmlsZQ%3D%3D?line=4'>5</a>\u001b[0m     training\u001b[39m.\u001b[39mget_base_model()\n\u001b[1;32m----> <a href='vscode-notebook-cell:/c%3A/Users/meabh/VS%20Code%20Projects/Kidney-Tumor-classification-DL-using-MLFlow-CICD/research/03_model_training.ipynb#X12sZmlsZQ%3D%3D?line=5'>6</a>\u001b[0m     training\u001b[39m.\u001b[39;49mtrain_valid_generator()\n\u001b[0;32m      <a href='vscode-notebook-cell:/c%3A/Users/meabh/VS%20Code%20Projects/Kidney-Tumor-classification-DL-using-MLFlow-CICD/research/03_model_training.ipynb#X12sZmlsZQ%3D%3D?line=6'>7</a>\u001b[0m     training\u001b[39m.\u001b[39mtrain()\n\u001b[0;32m      <a href='vscode-notebook-cell:/c%3A/Users/meabh/VS%20Code%20Projects/Kidney-Tumor-classification-DL-using-MLFlow-CICD/research/03_model_training.ipynb#X12sZmlsZQ%3D%3D?line=8'>9</a>\u001b[0m \u001b[39mexcept\u001b[39;00m \u001b[39mException\u001b[39;00m \u001b[39mas\u001b[39;00m e:\n",
      "\u001b[1;32mc:\\Users\\meabh\\VS Code Projects\\Kidney-Tumor-classification-DL-using-MLFlow-CICD\\research\\03_model_training.ipynb Cell 10\u001b[0m line \u001b[0;36m2\n\u001b[0;32m     <a href='vscode-notebook-cell:/c%3A/Users/meabh/VS%20Code%20Projects/Kidney-Tumor-classification-DL-using-MLFlow-CICD/research/03_model_training.ipynb#X12sZmlsZQ%3D%3D?line=18'>19</a>\u001b[0m dataflow_kwargs \u001b[39m=\u001b[39m \u001b[39mdict\u001b[39m(\n\u001b[0;32m     <a href='vscode-notebook-cell:/c%3A/Users/meabh/VS%20Code%20Projects/Kidney-Tumor-classification-DL-using-MLFlow-CICD/research/03_model_training.ipynb#X12sZmlsZQ%3D%3D?line=19'>20</a>\u001b[0m     target_size\u001b[39m=\u001b[39m\u001b[39mself\u001b[39m\u001b[39m.\u001b[39mconfig\u001b[39m.\u001b[39mparams_image_size[:\u001b[39m-\u001b[39m\u001b[39m1\u001b[39m],\n\u001b[0;32m     <a href='vscode-notebook-cell:/c%3A/Users/meabh/VS%20Code%20Projects/Kidney-Tumor-classification-DL-using-MLFlow-CICD/research/03_model_training.ipynb#X12sZmlsZQ%3D%3D?line=20'>21</a>\u001b[0m     batch_size\u001b[39m=\u001b[39m\u001b[39mself\u001b[39m\u001b[39m.\u001b[39mconfig\u001b[39m.\u001b[39mparams_batch_size,\n\u001b[0;32m     <a href='vscode-notebook-cell:/c%3A/Users/meabh/VS%20Code%20Projects/Kidney-Tumor-classification-DL-using-MLFlow-CICD/research/03_model_training.ipynb#X12sZmlsZQ%3D%3D?line=21'>22</a>\u001b[0m     interpolation\u001b[39m=\u001b[39m\u001b[39m\"\u001b[39m\u001b[39mbilinear\u001b[39m\u001b[39m\"\u001b[39m\n\u001b[0;32m     <a href='vscode-notebook-cell:/c%3A/Users/meabh/VS%20Code%20Projects/Kidney-Tumor-classification-DL-using-MLFlow-CICD/research/03_model_training.ipynb#X12sZmlsZQ%3D%3D?line=22'>23</a>\u001b[0m )\n\u001b[0;32m     <a href='vscode-notebook-cell:/c%3A/Users/meabh/VS%20Code%20Projects/Kidney-Tumor-classification-DL-using-MLFlow-CICD/research/03_model_training.ipynb#X12sZmlsZQ%3D%3D?line=24'>25</a>\u001b[0m valid_datagenerator \u001b[39m=\u001b[39m tf\u001b[39m.\u001b[39mkeras\u001b[39m.\u001b[39mpreprocessing\u001b[39m.\u001b[39mimage\u001b[39m.\u001b[39mImageDataGenerator(\n\u001b[0;32m     <a href='vscode-notebook-cell:/c%3A/Users/meabh/VS%20Code%20Projects/Kidney-Tumor-classification-DL-using-MLFlow-CICD/research/03_model_training.ipynb#X12sZmlsZQ%3D%3D?line=25'>26</a>\u001b[0m     \u001b[39m*\u001b[39m\u001b[39m*\u001b[39mdatagenerator_kwargs\n\u001b[0;32m     <a href='vscode-notebook-cell:/c%3A/Users/meabh/VS%20Code%20Projects/Kidney-Tumor-classification-DL-using-MLFlow-CICD/research/03_model_training.ipynb#X12sZmlsZQ%3D%3D?line=26'>27</a>\u001b[0m )\n\u001b[1;32m---> <a href='vscode-notebook-cell:/c%3A/Users/meabh/VS%20Code%20Projects/Kidney-Tumor-classification-DL-using-MLFlow-CICD/research/03_model_training.ipynb#X12sZmlsZQ%3D%3D?line=28'>29</a>\u001b[0m \u001b[39mself\u001b[39m\u001b[39m.\u001b[39mvalid_generator \u001b[39m=\u001b[39m valid_datagenerator\u001b[39m.\u001b[39;49mflow_from_directory(\n\u001b[0;32m     <a href='vscode-notebook-cell:/c%3A/Users/meabh/VS%20Code%20Projects/Kidney-Tumor-classification-DL-using-MLFlow-CICD/research/03_model_training.ipynb#X12sZmlsZQ%3D%3D?line=29'>30</a>\u001b[0m     directory\u001b[39m=\u001b[39;49m\u001b[39mself\u001b[39;49m\u001b[39m.\u001b[39;49mconfig\u001b[39m.\u001b[39;49mtraining_data,\n\u001b[0;32m     <a href='vscode-notebook-cell:/c%3A/Users/meabh/VS%20Code%20Projects/Kidney-Tumor-classification-DL-using-MLFlow-CICD/research/03_model_training.ipynb#X12sZmlsZQ%3D%3D?line=30'>31</a>\u001b[0m     subset\u001b[39m=\u001b[39;49m\u001b[39m\"\u001b[39;49m\u001b[39mvalidation\u001b[39;49m\u001b[39m\"\u001b[39;49m,\n\u001b[0;32m     <a href='vscode-notebook-cell:/c%3A/Users/meabh/VS%20Code%20Projects/Kidney-Tumor-classification-DL-using-MLFlow-CICD/research/03_model_training.ipynb#X12sZmlsZQ%3D%3D?line=31'>32</a>\u001b[0m     shuffle\u001b[39m=\u001b[39;49m\u001b[39mFalse\u001b[39;49;00m,\n\u001b[0;32m     <a href='vscode-notebook-cell:/c%3A/Users/meabh/VS%20Code%20Projects/Kidney-Tumor-classification-DL-using-MLFlow-CICD/research/03_model_training.ipynb#X12sZmlsZQ%3D%3D?line=32'>33</a>\u001b[0m     \u001b[39m*\u001b[39;49m\u001b[39m*\u001b[39;49mdataflow_kwargs\n\u001b[0;32m     <a href='vscode-notebook-cell:/c%3A/Users/meabh/VS%20Code%20Projects/Kidney-Tumor-classification-DL-using-MLFlow-CICD/research/03_model_training.ipynb#X12sZmlsZQ%3D%3D?line=33'>34</a>\u001b[0m )\n",
      "File \u001b[1;32mc:\\Users\\meabh\\anaconda3\\envs\\kidney\\lib\\site-packages\\keras\\preprocessing\\image.py:1648\u001b[0m, in \u001b[0;36mImageDataGenerator.flow_from_directory\u001b[1;34m(self, directory, target_size, color_mode, classes, class_mode, batch_size, shuffle, seed, save_to_dir, save_prefix, save_format, follow_links, subset, interpolation, keep_aspect_ratio)\u001b[0m\n\u001b[0;32m   1562\u001b[0m \u001b[39mdef\u001b[39;00m \u001b[39mflow_from_directory\u001b[39m(\n\u001b[0;32m   1563\u001b[0m     \u001b[39mself\u001b[39m,\n\u001b[0;32m   1564\u001b[0m     directory,\n\u001b[1;32m   (...)\u001b[0m\n\u001b[0;32m   1578\u001b[0m     keep_aspect_ratio\u001b[39m=\u001b[39m\u001b[39mFalse\u001b[39;00m,\n\u001b[0;32m   1579\u001b[0m ):\n\u001b[0;32m   1580\u001b[0m \u001b[39m    \u001b[39m\u001b[39m\"\"\"Takes the path to a directory & generates batches of augmented data.\u001b[39;00m\n\u001b[0;32m   1581\u001b[0m \n\u001b[0;32m   1582\u001b[0m \u001b[39m    Args:\u001b[39;00m\n\u001b[1;32m   (...)\u001b[0m\n\u001b[0;32m   1646\u001b[0m \u001b[39m            and `y` is a numpy array of corresponding labels.\u001b[39;00m\n\u001b[0;32m   1647\u001b[0m \u001b[39m    \"\"\"\u001b[39;00m\n\u001b[1;32m-> 1648\u001b[0m     \u001b[39mreturn\u001b[39;00m DirectoryIterator(\n\u001b[0;32m   1649\u001b[0m         directory,\n\u001b[0;32m   1650\u001b[0m         \u001b[39mself\u001b[39;49m,\n\u001b[0;32m   1651\u001b[0m         target_size\u001b[39m=\u001b[39;49mtarget_size,\n\u001b[0;32m   1652\u001b[0m         color_mode\u001b[39m=\u001b[39;49mcolor_mode,\n\u001b[0;32m   1653\u001b[0m         keep_aspect_ratio\u001b[39m=\u001b[39;49mkeep_aspect_ratio,\n\u001b[0;32m   1654\u001b[0m         classes\u001b[39m=\u001b[39;49mclasses,\n\u001b[0;32m   1655\u001b[0m         class_mode\u001b[39m=\u001b[39;49mclass_mode,\n\u001b[0;32m   1656\u001b[0m         data_format\u001b[39m=\u001b[39;49m\u001b[39mself\u001b[39;49m\u001b[39m.\u001b[39;49mdata_format,\n\u001b[0;32m   1657\u001b[0m         batch_size\u001b[39m=\u001b[39;49mbatch_size,\n\u001b[0;32m   1658\u001b[0m         shuffle\u001b[39m=\u001b[39;49mshuffle,\n\u001b[0;32m   1659\u001b[0m         seed\u001b[39m=\u001b[39;49mseed,\n\u001b[0;32m   1660\u001b[0m         save_to_dir\u001b[39m=\u001b[39;49msave_to_dir,\n\u001b[0;32m   1661\u001b[0m         save_prefix\u001b[39m=\u001b[39;49msave_prefix,\n\u001b[0;32m   1662\u001b[0m         save_format\u001b[39m=\u001b[39;49msave_format,\n\u001b[0;32m   1663\u001b[0m         follow_links\u001b[39m=\u001b[39;49mfollow_links,\n\u001b[0;32m   1664\u001b[0m         subset\u001b[39m=\u001b[39;49msubset,\n\u001b[0;32m   1665\u001b[0m         interpolation\u001b[39m=\u001b[39;49minterpolation,\n\u001b[0;32m   1666\u001b[0m         dtype\u001b[39m=\u001b[39;49m\u001b[39mself\u001b[39;49m\u001b[39m.\u001b[39;49mdtype,\n\u001b[0;32m   1667\u001b[0m     )\n",
      "File \u001b[1;32mc:\\Users\\meabh\\anaconda3\\envs\\kidney\\lib\\site-packages\\keras\\preprocessing\\image.py:563\u001b[0m, in \u001b[0;36mDirectoryIterator.__init__\u001b[1;34m(self, directory, image_data_generator, target_size, color_mode, classes, class_mode, batch_size, shuffle, seed, data_format, save_to_dir, save_prefix, save_format, follow_links, subset, interpolation, keep_aspect_ratio, dtype)\u001b[0m\n\u001b[0;32m    561\u001b[0m \u001b[39mif\u001b[39;00m \u001b[39mnot\u001b[39;00m classes:\n\u001b[0;32m    562\u001b[0m     classes \u001b[39m=\u001b[39m []\n\u001b[1;32m--> 563\u001b[0m     \u001b[39mfor\u001b[39;00m subdir \u001b[39min\u001b[39;00m \u001b[39msorted\u001b[39m(os\u001b[39m.\u001b[39;49mlistdir(directory)):\n\u001b[0;32m    564\u001b[0m         \u001b[39mif\u001b[39;00m os\u001b[39m.\u001b[39mpath\u001b[39m.\u001b[39misdir(os\u001b[39m.\u001b[39mpath\u001b[39m.\u001b[39mjoin(directory, subdir)):\n\u001b[0;32m    565\u001b[0m             classes\u001b[39m.\u001b[39mappend(subdir)\n",
      "\u001b[1;31mFileNotFoundError\u001b[0m: [WinError 3] The system cannot find the path specified: 'artifacts\\\\data_ingestion\\\\kidney-ct-scan-image'"
     ]
    }
   ],
   "source": [
    "try:\n",
    "    config = ConfigurationManager()\n",
    "    training_config = config.get_training_config()\n",
    "    training = Training(config=training_config)\n",
    "    training.get_base_model()\n",
    "    training.train_valid_generator()\n",
    "    training.train()\n",
    "    \n",
    "except Exception as e:\n",
    "    raise e"
   ]
  },
  {
   "cell_type": "code",
   "execution_count": null,
   "metadata": {},
   "outputs": [],
   "source": []
  }
 ],
 "metadata": {
  "kernelspec": {
   "display_name": "kidney",
   "language": "python",
   "name": "python3"
  },
  "language_info": {
   "codemirror_mode": {
    "name": "ipython",
    "version": 3
   },
   "file_extension": ".py",
   "mimetype": "text/x-python",
   "name": "python",
   "nbconvert_exporter": "python",
   "pygments_lexer": "ipython3",
   "version": "3.8.18"
  }
 },
 "nbformat": 4,
 "nbformat_minor": 2
}
